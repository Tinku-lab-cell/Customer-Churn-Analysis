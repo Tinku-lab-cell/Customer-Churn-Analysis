{
  "nbformat": 4,
  "nbformat_minor": 0,
  "metadata": {
    "colab": {
      "provenance": []
    },
    "kernelspec": {
      "name": "python3",
      "display_name": "Python 3"
    },
    "language_info": {
      "name": "python"
    }
  },
  "cells": [
    {
      "cell_type": "markdown",
      "source": [
        "**Import Necessary Libraries:**"
      ],
      "metadata": {
        "id": "GpEscw4w_NWa"
      }
    },
    {
      "cell_type": "code",
      "execution_count": 21,
      "metadata": {
        "id": "ar-_t47_3QC6"
      },
      "outputs": [],
      "source": [
        "import pandas as pd\n",
        "import numpy as np\n",
        "import random\n",
        "from sklearn.preprocessing import LabelEncoder\n",
        "from xgboost import XGBClassifier\n",
        "from sklearn.model_selection import GridSearchCV\n",
        "from sklearn.metrics import classification_report, confusion_matrix, precision_score, recall_score, f1_score, roc_auc_score\n"
      ]
    },
    {
      "cell_type": "markdown",
      "source": [
        "# Synthetic Data generation\n",
        "# > - These functions are used to generate synthetic data for a customer churn analysis"
      ],
      "metadata": {
        "id": "DknXPTU7_gRA"
      }
    },
    {
      "cell_type": "code",
      "source": [
        "def generate_customer_id(size):\n",
        "    return np.arange(1, size + 1)\n",
        "\n",
        "def generate_age(size):\n",
        "    return np.random.randint(18, 80, size)\n",
        "\n",
        "def generate_gender(size):\n",
        "    return np.random.choice(['Male', 'Female'], size)\n",
        "\n",
        "def generate_contract_type(size):\n",
        "    return np.random.choice(['Month-to-month', 'One year', 'Two year'], size)\n",
        "\n",
        "def generate_monthly_charges(size):\n",
        "    return np.random.uniform(30, 100, size)\n",
        "\n",
        "def generate_total_charges(size, monthly_charges, tenure):\n",
        "    return monthly_charges * tenure\n",
        "\n",
        "def generate_tech_support(size):\n",
        "    return np.random.choice(['Yes', 'No'], size)\n",
        "\n",
        "def generate_internet_service(size):\n",
        "    return np.random.choice(['DSL', 'Fiber optic', 'No'], size)\n",
        "\n",
        "def generate_tenure(size):\n",
        "    return np.random.randint(1, 72, size)\n",
        "\n",
        "def generate_paperless_billing(size):\n",
        "    return np.random.choice(['Yes', 'No'], size)\n",
        "\n",
        "def generate_payment_method(size):\n",
        "    return np.random.choice(['Electronic check', 'Mailed check', 'Bank transfer', 'Credit card'], size)\n",
        "\n",
        "def generate_churn(size, churn_rate=0.2):\n",
        "    return np.random.choice(['Yes', 'No'], size, p=[churn_rate, 1 - churn_rate])\n",
        "\n",
        "def introduce_missing_values(df, missing_rate=0.05):\n",
        "    for column in df.columns:\n",
        "        if column not in ['CustomerID', 'Churn']:\n",
        "            mask = np.random.rand(len(df)) < missing_rate\n",
        "            df.loc[mask, column] = np.nan\n",
        "    return df\n",
        "\n",
        "def introduce_outliers(df, outlier_rate=0.01):\n",
        "    for column in ['Age', 'MonthlyCharges', 'TotalCharges', 'Tenure']:\n",
        "        mask = np.random.rand(len(df)) < outlier_rate\n",
        "        df.loc[mask, column] = df[column].max() * 10\n",
        "    return df\n",
        "\n",
        "def introduce_inconsistencies(df, inconsistency_rate=0.01):\n",
        "    for column in ['Gender', 'ContractType', 'InternetService', 'PaymentMethod']:\n",
        "        mask = np.random.rand(len(df)) < inconsistency_rate\n",
        "        df.loc[mask, column] = 'Unknown'\n",
        "    return df"
      ],
      "metadata": {
        "id": "Cq97E0p3AgLl"
      },
      "execution_count": 2,
      "outputs": []
    },
    {
      "cell_type": "markdown",
      "source": [
        "**Calling out the defined function:**\n",
        "\n"
      ],
      "metadata": {
        "id": "qsX_hILbBdwl"
      }
    },
    {
      "cell_type": "code",
      "source": [
        "size = 5000 # records\n",
        "data = {\n",
        "    'CustomerID': generate_customer_id(size),\n",
        "    'Age': generate_age(size),\n",
        "    'Gender': generate_gender(size),\n",
        "    'ContractType': generate_contract_type(size),\n",
        "    'MonthlyCharges': generate_monthly_charges(size),\n",
        "    'Tenure': generate_tenure(size),\n",
        "    'TechSupport': generate_tech_support(size),\n",
        "    'InternetService': generate_internet_service(size),\n",
        "    'PaperlessBilling': generate_paperless_billing(size),\n",
        "    'PaymentMethod': generate_payment_method(size),\n",
        "    'Churn': generate_churn(size)\n",
        "}\n",
        "\n",
        "df = pd.DataFrame(data)\n",
        "df['TotalCharges'] = generate_total_charges(size, df['MonthlyCharges'], df['Tenure'])\n",
        "\n",
        "# Introduce data quality issues\n",
        "df = introduce_missing_values(df)\n",
        "df = introduce_outliers(df)\n",
        "df = introduce_inconsistencies(df)\n",
        "\n",
        "# Create derived features\n",
        "df['AverageMonthlyCharges'] = df['TotalCharges'] / df['Tenure']\n",
        "df['CustomerLifetimeValue'] = df['MonthlyCharges'] * df['Tenure']\n",
        "\n",
        "# Display the first few rows of the dataset\n",
        "print(df.head())\n"
      ],
      "metadata": {
        "colab": {
          "base_uri": "https://localhost:8080/",
          "height": 0
        },
        "id": "IZWcj-D_CSRl",
        "outputId": "a8bf4e76-e856-4ee4-d683-bfa5a39ab972"
      },
      "execution_count": 3,
      "outputs": [
        {
          "output_type": "stream",
          "name": "stdout",
          "text": [
            "   CustomerID    Age  Gender    ContractType  MonthlyCharges  Tenure  \\\n",
            "0           1   56.0    Male        Two year       51.553562    21.0   \n",
            "1           2   49.0  Female  Month-to-month       42.554368    38.0   \n",
            "2           3   74.0    Male        Two year       30.459775    20.0   \n",
            "3           4   73.0    Male        One year       50.969914    59.0   \n",
            "4           5  790.0    Male        One year       32.873697    44.0   \n",
            "\n",
            "  TechSupport InternetService PaperlessBilling     PaymentMethod Churn  \\\n",
            "0          No              No              Yes      Mailed check    No   \n",
            "1          No              No              Yes  Electronic check    No   \n",
            "2         Yes             DSL              Yes  Electronic check   Yes   \n",
            "3         Yes             DSL               No               NaN   Yes   \n",
            "4          No             DSL               No      Mailed check    No   \n",
            "\n",
            "   TotalCharges  AverageMonthlyCharges  CustomerLifetimeValue  \n",
            "0   1082.624801              51.553562            1082.624801  \n",
            "1   1617.065994              42.554368            1617.065994  \n",
            "2           NaN                    NaN             609.195506  \n",
            "3   3007.224936              50.969914            3007.224936  \n",
            "4   1446.442669              32.873697            1446.442669  \n"
          ]
        }
      ]
    },
    {
      "cell_type": "markdown",
      "source": [
        "**Checking the data quality**"
      ],
      "metadata": {
        "id": "lg7b-ikICk00"
      }
    },
    {
      "cell_type": "markdown",
      "source": [
        "#Missing Values:\n"
      ],
      "metadata": {
        "id": "ALVP1q-dDgwI"
      }
    },
    {
      "cell_type": "code",
      "source": [
        "print(df.isnull().sum())"
      ],
      "metadata": {
        "colab": {
          "base_uri": "https://localhost:8080/",
          "height": 0
        },
        "id": "GrAW83pgDSGM",
        "outputId": "9f4635ae-9d75-44fb-f658-0449b650624a"
      },
      "execution_count": 4,
      "outputs": [
        {
          "output_type": "stream",
          "name": "stdout",
          "text": [
            "CustomerID                 0\n",
            "Age                      235\n",
            "Gender                   251\n",
            "ContractType             260\n",
            "MonthlyCharges           230\n",
            "Tenure                   234\n",
            "TechSupport              271\n",
            "InternetService          251\n",
            "PaperlessBilling         244\n",
            "PaymentMethod            267\n",
            "Churn                      0\n",
            "TotalCharges             245\n",
            "AverageMonthlyCharges    469\n",
            "CustomerLifetimeValue    455\n",
            "dtype: int64\n"
          ]
        }
      ]
    },
    {
      "cell_type": "code",
      "source": [
        "import matplotlib.pyplot as plt\n",
        "import seaborn as sns\n",
        "\n",
        "\n",
        "sns.set(style=\"whitegrid\")\n",
        "\n",
        "\n",
        "plt.figure(figsize=(12, 8))\n",
        "for i, column in enumerate(['Age', 'MonthlyCharges', 'TotalCharges', 'Tenure'], 1):\n",
        "    plt.subplot(2, 2, i)\n",
        "    sns.histplot(df[column], bins=30, kde=True)\n",
        "    plt.title(f'Histogram of {column}')\n",
        "plt.tight_layout()\n",
        "plt.show()"
      ],
      "metadata": {
        "colab": {
          "base_uri": "https://localhost:8080/",
          "height": 801
        },
        "id": "892V9AY0DzxP",
        "outputId": "ddced8b1-e060-41a8-8d7b-ccbc59c79697"
      },
      "execution_count": 5,
      "outputs": [
        {
          "output_type": "display_data",
          "data": {
            "text/plain": [
              "<Figure size 1200x800 with 4 Axes>"
            ],
            "image/png": "[encoded data removed]"
          },
          "metadata": {}
        }
      ]
    },
    {
      "cell_type": "markdown",
      "source": [
        "**Unique Values**\n"
      ],
      "metadata": {
        "id": "cqJcCBuzEKCC"
      }
    },
    {
      "cell_type": "code",
      "source": [
        "for column in ['Gender', 'ContractType', 'InternetService', 'PaymentMethod']:\n",
        "    print(f\" {column}: {df[column].unique()}\")\n"
      ],
      "metadata": {
        "colab": {
          "base_uri": "https://localhost:8080/",
          "height": 0
        },
        "id": "rr0k-Ir_EQbz",
        "outputId": "b85fb3e0-1220-4538-a641-93bd541a8312"
      },
      "execution_count": 6,
      "outputs": [
        {
          "output_type": "stream",
          "name": "stdout",
          "text": [
            " Gender: ['Male' 'Female' nan 'Unknown']\n",
            " ContractType: ['Two year' 'Month-to-month' 'One year' nan 'Unknown']\n",
            " InternetService: ['No' 'DSL' 'Fiber optic' 'Unknown' nan]\n",
            " PaymentMethod: ['Mailed check' 'Electronic check' nan 'Bank transfer' 'Credit card'\n",
            " 'Unknown']\n"
          ]
        }
      ]
    },
    {
      "cell_type": "markdown",
      "source": [
        "**Fill missing values for numerical columns with the mean**\n"
      ],
      "metadata": {
        "id": "2gvy1xifEVl_"
      }
    },
    {
      "cell_type": "code",
      "source": [
        "numerical_columns = ['Age', 'MonthlyCharges', 'TotalCharges', 'Tenure', 'AverageMonthlyCharges', 'CustomerLifetimeValue']\n",
        "for column in numerical_columns:\n",
        "    df[column].fillna(df[column].mean(), inplace=True)\n"
      ],
      "metadata": {
        "id": "ZESihF00Ee9t"
      },
      "execution_count": 7,
      "outputs": []
    },
    {
      "cell_type": "markdown",
      "source": [
        "**Fill missing values for categorical columns with the mode**\n"
      ],
      "metadata": {
        "id": "xgPoB4psEoDM"
      }
    },
    {
      "cell_type": "code",
      "source": [
        "categorical_columns = ['Gender', 'ContractType', 'TechSupport', 'InternetService', 'PaperlessBilling', 'PaymentMethod']\n",
        "for column in categorical_columns:\n",
        "    df[column].fillna(df[column].mode()[0], inplace=True)\n",
        "\n",
        "# Verify that there are no missing values left\n",
        "print(df.isnull().sum())"
      ],
      "metadata": {
        "colab": {
          "base_uri": "https://localhost:8080/",
          "height": 0
        },
        "id": "UvlQN8FaEseF",
        "outputId": "c1c912b5-956d-4619-91d8-e097b097ac47"
      },
      "execution_count": 8,
      "outputs": [
        {
          "output_type": "stream",
          "name": "stdout",
          "text": [
            "CustomerID               0\n",
            "Age                      0\n",
            "Gender                   0\n",
            "ContractType             0\n",
            "MonthlyCharges           0\n",
            "Tenure                   0\n",
            "TechSupport              0\n",
            "InternetService          0\n",
            "PaperlessBilling         0\n",
            "PaymentMethod            0\n",
            "Churn                    0\n",
            "TotalCharges             0\n",
            "AverageMonthlyCharges    0\n",
            "CustomerLifetimeValue    0\n",
            "dtype: int64\n"
          ]
        }
      ]
    },
    {
      "cell_type": "markdown",
      "source": [
        "**label encoding for categorical features to convert them into numerical format**.\n"
      ],
      "metadata": {
        "id": "2pCelfTGE3gr"
      }
    },
    {
      "cell_type": "code",
      "source": [
        "label_encoder = LabelEncoder()\n",
        "\n",
        "\n",
        "for column in categorical_columns:\n",
        "    df[column] = label_encoder.fit_transform(df[column])\n",
        "df['Churn'] = label_encoder.fit_transform(df['Churn'])"
      ],
      "metadata": {
        "id": "r1_B1yjnE6y5"
      },
      "execution_count": 9,
      "outputs": []
    },
    {
      "cell_type": "markdown",
      "source": [
        "**checking missing values**\n"
      ],
      "metadata": {
        "id": "ReLyXtynFBV8"
      }
    },
    {
      "cell_type": "code",
      "source": [
        "df.isnull().sum()"
      ],
      "metadata": {
        "colab": {
          "base_uri": "https://localhost:8080/",
          "height": 523
        },
        "id": "kxcvsG9kFKGy",
        "outputId": "b9266181-ecd7-44f2-b8f7-e487acda803a"
      },
      "execution_count": 10,
      "outputs": [
        {
          "output_type": "execute_result",
          "data": {
            "text/plain": [
              "CustomerID               0\n",
              "Age                      0\n",
              "Gender                   0\n",
              "ContractType             0\n",
              "MonthlyCharges           0\n",
              "Tenure                   0\n",
              "TechSupport              0\n",
              "InternetService          0\n",
              "PaperlessBilling         0\n",
              "PaymentMethod            0\n",
              "Churn                    0\n",
              "TotalCharges             0\n",
              "AverageMonthlyCharges    0\n",
              "CustomerLifetimeValue    0\n",
              "dtype: int64"
            ],
            "text/html": [
              "<div>\n",
              "<style scoped>\n",
              "    .dataframe tbody tr th:only-of-type {\n",
              "        vertical-align: middle;\n",
              "    }\n",
              "\n",
              "    .dataframe tbody tr th {\n",
              "        vertical-align: top;\n",
              "    }\n",
              "\n",
              "    .dataframe thead th {\n",
              "        text-align: right;\n",
              "    }\n",
              "</style>\n",
              "<table border=\"1\" class=\"dataframe\">\n",
              "  <thead>\n",
              "    <tr style=\"text-align: right;\">\n",
              "      <th></th>\n",
              "      <th>0</th>\n",
              "    </tr>\n",
              "  </thead>\n",
              "  <tbody>\n",
              "    <tr>\n",
              "      <th>CustomerID</th>\n",
              "      <td>0</td>\n",
              "    </tr>\n",
              "    <tr>\n",
              "      <th>Age</th>\n",
              "      <td>0</td>\n",
              "    </tr>\n",
              "    <tr>\n",
              "      <th>Gender</th>\n",
              "      <td>0</td>\n",
              "    </tr>\n",
              "    <tr>\n",
              "      <th>ContractType</th>\n",
              "      <td>0</td>\n",
              "    </tr>\n",
              "    <tr>\n",
              "      <th>MonthlyCharges</th>\n",
              "      <td>0</td>\n",
              "    </tr>\n",
              "    <tr>\n",
              "      <th>Tenure</th>\n",
              "      <td>0</td>\n",
              "    </tr>\n",
              "    <tr>\n",
              "      <th>TechSupport</th>\n",
              "      <td>0</td>\n",
              "    </tr>\n",
              "    <tr>\n",
              "      <th>InternetService</th>\n",
              "      <td>0</td>\n",
              "    </tr>\n",
              "    <tr>\n",
              "      <th>PaperlessBilling</th>\n",
              "      <td>0</td>\n",
              "    </tr>\n",
              "    <tr>\n",
              "      <th>PaymentMethod</th>\n",
              "      <td>0</td>\n",
              "    </tr>\n",
              "    <tr>\n",
              "      <th>Churn</th>\n",
              "      <td>0</td>\n",
              "    </tr>\n",
              "    <tr>\n",
              "      <th>TotalCharges</th>\n",
              "      <td>0</td>\n",
              "    </tr>\n",
              "    <tr>\n",
              "      <th>AverageMonthlyCharges</th>\n",
              "      <td>0</td>\n",
              "    </tr>\n",
              "    <tr>\n",
              "      <th>CustomerLifetimeValue</th>\n",
              "      <td>0</td>\n",
              "    </tr>\n",
              "  </tbody>\n",
              "</table>\n",
              "</div><br><label><b>dtype:</b> int64</label>"
            ]
          },
          "metadata": {},
          "execution_count": 10
        }
      ]
    },
    {
      "cell_type": "markdown",
      "source": [
        " **modeling**\n"
      ],
      "metadata": {
        "id": "ATCoimykF2wG"
      }
    },
    {
      "cell_type": "markdown",
      "source": [
        "**test train split 80 | 20 ratio**"
      ],
      "metadata": {
        "id": "PCS5S4N2GG__"
      }
    },
    {
      "cell_type": "code",
      "source": [
        "from sklearn.model_selection import train_test_split\n",
        "\n",
        "\n",
        "X = df.drop(['CustomerID', 'Churn'], axis=1)\n",
        "y = df['Churn']\n",
        "\n",
        "X_train_full, X_temp, y_train_full, y_temp = train_test_split(X, y, test_size=0.2, random_state=42, stratify=y)\n",
        "\n",
        "X_val, X_test, y_val, y_test = train_test_split(X_temp, y_temp, test_size=0.5, random_state=42, stratify=y_temp)"
      ],
      "metadata": {
        "id": "UlhGXNlGGxXn"
      },
      "execution_count": 11,
      "outputs": []
    },
    {
      "cell_type": "code",
      "source": [
        "# Create interaction terms\n",
        "df['MonthlyCharges_Tenure'] = df['MonthlyCharges'] * df['Tenure']\n",
        "df['Age_Tenure'] = df['Age'] * df['Tenure']\n",
        "\n",
        "# Update the feature set\n",
        "X_train_full['MonthlyCharges_Tenure'] = X_train_full['MonthlyCharges'] * X_train_full['Tenure']\n",
        "X_train_full['Age_Tenure'] = X_train_full['Age'] * X_train_full['Tenure']\n",
        "\n",
        "X_val['MonthlyCharges_Tenure'] = X_val['MonthlyCharges'] * X_val['Tenure']\n",
        "X_val['Age_Tenure'] = X_val['Age'] * X_val['Tenure']\n",
        "\n",
        "X_test['MonthlyCharges_Tenure'] = X_test['MonthlyCharges'] * X_test['Tenure']\n",
        "X_test['Age_Tenure'] = X_test['Age'] * X_test['Tenure']"
      ],
      "metadata": {
        "id": "PkKOhOEFHAbW"
      },
      "execution_count": 12,
      "outputs": []
    },
    {
      "cell_type": "markdown",
      "source": [
        "**Model Building**\n"
      ],
      "metadata": {
        "id": "PeyFsuD1HHPY"
      }
    },
    {
      "cell_type": "code",
      "source": [
        "from sklearn.linear_model import LogisticRegression\n",
        "from sklearn.ensemble import RandomForestClassifier, GradientBoostingClassifier\n",
        "from xgboost import XGBClassifier\n",
        "from sklearn.model_selection import GridSearchCV, RandomizedSearchCV\n",
        "from sklearn.metrics import classification_report, confusion_matrix, precision_score, recall_score, f1_score, roc_auc_score\n"
      ],
      "metadata": {
        "id": "HS63VaJWHL4i"
      },
      "execution_count": 13,
      "outputs": []
    },
    {
      "cell_type": "markdown",
      "source": [
        "**Random Forest**\n"
      ],
      "metadata": {
        "id": "aTANGVmTHUhq"
      }
    },
    {
      "cell_type": "code",
      "source": [
        "\n",
        "# Random Forest\n",
        "rf = RandomForestClassifier(class_weight='balanced', random_state=42)\n",
        "param_grid_rf = {\n",
        "    'n_estimators': [50, 100, 200],\n",
        "    'max_depth': [5, 10, 15],\n",
        "    'min_samples_split': [2, 5, 10]\n",
        "}\n",
        "\n",
        "grid_search_rf = GridSearchCV(rf, param_grid_rf, cv=3, scoring='precision', n_jobs=-1)\n",
        "grid_search_rf.fit(X_train_full, y_train_full)\n",
        "\n",
        "best_rf = grid_search_rf.best_estimator_\n",
        "\n",
        "# Evaluate on validation set\n",
        "y_val_pred_rf = best_rf.predict(X_val)\n",
        "print(\"Random Forest Validation Results:\")\n",
        "print(classification_report(y_val, y_val_pred_rf))\n",
        "print(\"Confusion Matrix:\")\n",
        "print(confusion_matrix(y_val, y_val_pred_rf))\n",
        "print(\"Precision:\", precision_score(y_val, y_val_pred_rf))\n",
        "print(\"Recall:\", recall_score(y_val, y_val_pred_rf))\n",
        "print(\"F1 Score:\", f1_score(y_val, y_val_pred_rf))\n",
        "print(\"ROC AUC Score:\", roc_auc_score(y_val, y_val_pred_rf))\n"
      ],
      "metadata": {
        "colab": {
          "base_uri": "https://localhost:8080/",
          "height": 0
        },
        "id": "uFbnXAJ4HYSV",
        "outputId": "c060a97b-f11d-47aa-f7c4-23b783bce0ad"
      },
      "execution_count": 14,
      "outputs": [
        {
          "output_type": "stream",
          "name": "stdout",
          "text": [
            "Random Forest Validation Results:\n",
            "              precision    recall  f1-score   support\n",
            "\n",
            "           0       0.80      0.95      0.87       399\n",
            "           1       0.22      0.05      0.08       101\n",
            "\n",
            "    accuracy                           0.77       500\n",
            "   macro avg       0.51      0.50      0.48       500\n",
            "weighted avg       0.68      0.77      0.71       500\n",
            "\n",
            "Confusion Matrix:\n",
            "[[381  18]\n",
            " [ 96   5]]\n",
            "Precision: 0.21739130434782608\n",
            "Recall: 0.04950495049504951\n",
            "F1 Score: 0.08064516129032258\n",
            "ROC AUC Score: 0.5021960842700812\n"
          ]
        }
      ]
    },
    {
      "cell_type": "markdown",
      "source": [
        "**Logistic Regression**\n"
      ],
      "metadata": {
        "id": "xYjZZQC6H5mA"
      }
    },
    {
      "cell_type": "code",
      "source": [
        "# Logistic Regression\n",
        "log_reg = LogisticRegression(class_weight='balanced', max_iter=1000, random_state=42)\n",
        "log_reg.fit(X_train_full, y_train_full)\n",
        "\n",
        "# Evaluate on validation set\n",
        "y_val_pred_log_reg = log_reg.predict(X_val)\n",
        "print(\"Logistic Regression Validation Results:\")\n",
        "print(classification_report(y_val, y_val_pred_log_reg))\n",
        "print(\"Confusion Matrix:\")\n",
        "print(confusion_matrix(y_val, y_val_pred_log_reg))\n",
        "print(\"Precision:\", precision_score(y_val, y_val_pred_log_reg))\n",
        "print(\"Recall:\", recall_score(y_val, y_val_pred_log_reg))\n",
        "print(\"F1 Score:\", f1_score(y_val, y_val_pred_log_reg))\n",
        "print(\"ROC AUC Score:\", roc_auc_score(y_val, y_val_pred_log_reg))"
      ],
      "metadata": {
        "colab": {
          "base_uri": "https://localhost:8080/",
          "height": 0
        },
        "id": "j3gJafvgIAAl",
        "outputId": "1268ce50-8cef-4206-85a8-3452c4bf9dd1"
      },
      "execution_count": 15,
      "outputs": [
        {
          "output_type": "stream",
          "name": "stdout",
          "text": [
            "Logistic Regression Validation Results:\n",
            "              precision    recall  f1-score   support\n",
            "\n",
            "           0       0.79      0.55      0.65       399\n",
            "           1       0.19      0.42      0.26       101\n",
            "\n",
            "    accuracy                           0.53       500\n",
            "   macro avg       0.49      0.48      0.46       500\n",
            "weighted avg       0.67      0.53      0.57       500\n",
            "\n",
            "Confusion Matrix:\n",
            "[[221 178]\n",
            " [ 59  42]]\n",
            "Precision: 0.19090909090909092\n",
            "Recall: 0.4158415841584158\n",
            "F1 Score: 0.26168224299065423\n",
            "ROC AUC Score: 0.48486314796893226\n"
          ]
        }
      ]
    },
    {
      "cell_type": "markdown",
      "source": [
        "**Gradient Bossting**\n"
      ],
      "metadata": {
        "id": "yAP_tn8vIJHb"
      }
    },
    {
      "cell_type": "code",
      "source": [
        "# Gradient Boosting\n",
        "gb = GradientBoostingClassifier(random_state=42)\n",
        "param_grid_gb = {\n",
        "    'n_estimators': [50, 100, 200],\n",
        "    'learning_rate': [0.01, 0.1, 0.2],\n",
        "    'max_depth': [3, 5, 7]\n",
        "}\n",
        "\n",
        "grid_search_gb = GridSearchCV(gb, param_grid_gb, cv=3, scoring='precision', n_jobs=-1)\n",
        "grid_search_gb.fit(X_train_full, y_train_full)\n",
        "\n",
        "best_gb = grid_search_gb.best_estimator_\n",
        "\n",
        "# Evaluate on validation set\n",
        "y_val_pred_gb = best_gb.predict(X_val)\n",
        "print(\"Gradient Boosting Validation Results:\")\n",
        "print(classification_report(y_val, y_val_pred_gb))\n",
        "print(\"Confusion Matrix:\")\n",
        "print(confusion_matrix(y_val, y_val_pred_gb))\n",
        "print(\"Precision:\", precision_score(y_val, y_val_pred_gb))\n",
        "print(\"Recall:\", recall_score(y_val, y_val_pred_gb))\n",
        "print(\"F1 Score:\", f1_score(y_val, y_val_pred_gb))\n",
        "print(\"ROC AUC Score:\", roc_auc_score(y_val, y_val_pred_gb))"
      ],
      "metadata": {
        "colab": {
          "base_uri": "https://localhost:8080/",
          "height": 0
        },
        "id": "fK0auacYINWg",
        "outputId": "301b757c-c37f-4f70-a45d-ae7570675a28"
      },
      "execution_count": 16,
      "outputs": [
        {
          "output_type": "stream",
          "name": "stdout",
          "text": [
            "Gradient Boosting Validation Results:\n",
            "              precision    recall  f1-score   support\n",
            "\n",
            "           0       0.80      0.99      0.89       399\n",
            "           1       0.00      0.00      0.00       101\n",
            "\n",
            "    accuracy                           0.79       500\n",
            "   macro avg       0.40      0.50      0.44       500\n",
            "weighted avg       0.64      0.79      0.71       500\n",
            "\n",
            "Confusion Matrix:\n",
            "[[397   2]\n",
            " [101   0]]\n",
            "Precision: 0.0\n",
            "Recall: 0.0\n",
            "F1 Score: 0.0\n",
            "ROC AUC Score: 0.4974937343358396\n"
          ]
        }
      ]
    },
    {
      "cell_type": "markdown",
      "source": [
        "> ###  **XG Boost**\n"
      ],
      "metadata": {
        "id": "qwt7autPJAYT"
      }
    },
    {
      "cell_type": "code",
      "source": [
        "# Initialize XGBoost model\n",
        "xgb = XGBClassifier(eval_metric='logloss', random_state=42)\n",
        "# Define the parameter grid\n",
        "param_grid_xgb = {\n",
        "    'n_estimators': [50, 100, 200],\n",
        "    'learning_rate': [0.01, 0.1, 0.2],\n",
        "    'max_depth': [3, 5, 7]\n",
        "}\n",
        "\n",
        "# Set up GridSearchCV\n",
        "grid_search_xgb = GridSearchCV(xgb, param_grid_xgb, cv=3, scoring='precision', n_jobs=-1)\n",
        "grid_search_xgb.fit(X_train_full, y_train_full)\n",
        "\n",
        "# Get the best model\n",
        "best_xgb = grid_search_xgb.best_estimator_\n",
        "\n",
        "# Evaluate on validation set\n",
        "y_val_pred_xgb = best_xgb.predict(X_val)\n",
        "\n",
        "# Print evaluation metrics\n",
        "print(\"XGBoost Validation Results:\")\n",
        "print(classification_report(y_val, y_val_pred_xgb, zero_division=1))  # Handle division by zero\n",
        "print(\"Confusion Matrix:\")\n",
        "print(confusion_matrix(y_val, y_val_pred_xgb))\n",
        "print(\"Precision:\", precision_score(y_val, y_val_pred_xgb, zero_division=1))\n",
        "print(\"Recall:\", recall_score(y_val, y_val_pred_xgb, zero_division=1))\n",
        "print(\"F1 Score:\", f1_score(y_val, y_val_pred_xgb, zero_division=1))\n",
        "print(\"ROC AUC Score:\", roc_auc_score(y_val, y_val_pred_xgb))\n"
      ],
      "metadata": {
        "colab": {
          "base_uri": "https://localhost:8080/",
          "height": 0
        },
        "id": "erJFhNr4KlW9",
        "outputId": "2f03fad1-7b84-4fa9-922d-084d3a3151c9"
      },
      "execution_count": 22,
      "outputs": [
        {
          "output_type": "stream",
          "name": "stdout",
          "text": [
            "XGBoost Validation Results:\n",
            "              precision    recall  f1-score   support\n",
            "\n",
            "           0       0.80      1.00      0.89       399\n",
            "           1       1.00      0.00      0.00       101\n",
            "\n",
            "    accuracy                           0.80       500\n",
            "   macro avg       0.90      0.50      0.44       500\n",
            "weighted avg       0.84      0.80      0.71       500\n",
            "\n",
            "Confusion Matrix:\n",
            "[[399   0]\n",
            " [101   0]]\n",
            "Precision: 1.0\n",
            "Recall: 0.0\n",
            "F1 Score: 0.0\n",
            "ROC AUC Score: 0.5\n"
          ]
        }
      ]
    },
    {
      "cell_type": "markdown",
      "source": [
        "**Model Selection and Evaluation**\n"
      ],
      "metadata": {
        "id": "fnz11MyeJhJ5"
      }
    },
    {
      "cell_type": "code",
      "source": [
        "# Compare precision scores of the models on the validation set\n",
        "precision_scores = {\n",
        "    'Logistic Regression': precision_score(y_val, y_val_pred_log_reg),\n",
        "    'Random Forest': precision_score(y_val, y_val_pred_rf),\n",
        "    'Gradient Boosting': precision_score(y_val, y_val_pred_gb),\n",
        "    'XGBoost': precision_score(y_val, y_val_pred_xgb)\n",
        "}\n",
        "\n",
        "# Select the model with the highest precision\n",
        "best_model_name = max(precision_scores, key=precision_scores.get)\n",
        "best_model = {\n",
        "    'Logistic Regression': log_reg,\n",
        "    'Random Forest': best_rf,\n",
        "    'Gradient Boosting': best_gb,\n",
        "    'XGBoost': best_xgb\n",
        "}[best_model_name]\n",
        "\n",
        "print(f\"The best model based on precision is: {best_model_name}\")\n"
      ],
      "metadata": {
        "colab": {
          "base_uri": "https://localhost:8080/",
          "height": 0
        },
        "id": "W04gRYsgN6zj",
        "outputId": "51a5f1a2-41d6-4cf6-a562-9d5273fcee53"
      },
      "execution_count": 24,
      "outputs": [
        {
          "output_type": "stream",
          "name": "stdout",
          "text": [
            "The best model based on precision is: Random Forest\n"
          ]
        },
        {
          "output_type": "stream",
          "name": "stderr",
          "text": [
            "/usr/local/lib/python3.10/dist-packages/sklearn/metrics/_classification.py:1471: UndefinedMetricWarning: Precision is ill-defined and being set to 0.0 due to no predicted samples. Use `zero_division` parameter to control this behavior.\n",
            "  _warn_prf(average, modifier, msg_start, len(result))\n"
          ]
        }
      ]
    },
    {
      "cell_type": "code",
      "source": [
        "# Evaluate the best model on the test set\n",
        "best_model = best_xgb  # Replace with the best model based on validation results\n",
        "y_test_pred = best_model.predict(X_test)\n",
        "\n",
        "print(\"Best Model Test Results:\")\n",
        "print(classification_report(y_test, y_test_pred))\n",
        "print(\"Confusion Matrix:\")\n",
        "print(confusion_matrix(y_test, y_test_pred))\n",
        "print(\"Precision:\", precision_score(y_test, y_test_pred))\n",
        "print(\"Recall:\", recall_score(y_test, y_test_pred))\n",
        "print(\"F1 Score:\", f1_score(y_test, y_test_pred))\n",
        "print(\"ROC AUC Score:\", roc_auc_score(y_test, y_test_pred))\n"
      ],
      "metadata": {
        "colab": {
          "base_uri": "https://localhost:8080/",
          "height": 0
        },
        "id": "MzlFNn8yN9w9",
        "outputId": "7fbb44bc-a2a1-471f-a4d3-ecbe884c23f7"
      },
      "execution_count": 25,
      "outputs": [
        {
          "output_type": "stream",
          "name": "stdout",
          "text": [
            "Best Model Test Results:\n",
            "              precision    recall  f1-score   support\n",
            "\n",
            "           0       0.80      0.99      0.88       399\n",
            "           1       0.25      0.01      0.02       101\n",
            "\n",
            "    accuracy                           0.79       500\n",
            "   macro avg       0.52      0.50      0.45       500\n",
            "weighted avg       0.69      0.79      0.71       500\n",
            "\n",
            "Confusion Matrix:\n",
            "[[396   3]\n",
            " [100   1]]\n",
            "Precision: 0.25\n",
            "Recall: 0.009900990099009901\n",
            "F1 Score: 0.019047619047619046\n",
            "ROC AUC Score: 0.5011910965532643\n"
          ]
        }
      ]
    },
    {
      "cell_type": "markdown",
      "source": [
        "**Feature Importance**"
      ],
      "metadata": {
        "id": "mZNDnYH0bjTB"
      }
    },
    {
      "cell_type": "code",
      "source": [
        "if isinstance(best_model, (RandomForestClassifier, GradientBoostingClassifier, XGBClassifier)):\n",
        "    feature_importances = best_model.feature_importances_\n",
        "    feature_names = X_train_full.columns\n",
        "    importance_df = pd.DataFrame({'Feature': feature_names, 'Importance': feature_importances})\n",
        "    importance_df = importance_df.sort_values(by='Importance', ascending=False)\n",
        "    print(importance_df)\n",
        "\n",
        "    # Plot feature importances\n",
        "    plt.figure(figsize=(12, 6))\n",
        "    sns.barplot(x='Importance', y='Feature', data=importance_df)\n",
        "    plt.title('Feature Importances')\n",
        "    plt.show()\n"
      ],
      "metadata": {
        "colab": {
          "base_uri": "https://localhost:8080/",
          "height": 833
        },
        "id": "WaEaA_rubgsw",
        "outputId": "14d1eac4-7923-4e87-a3c4-5972dd5b81f7"
      },
      "execution_count": 26,
      "outputs": [
        {
          "output_type": "stream",
          "name": "stdout",
          "text": [
            "                  Feature  Importance\n",
            "1                  Gender    0.101959\n",
            "11  CustomerLifetimeValue    0.089319\n",
            "2            ContractType    0.082713\n",
            "4                  Tenure    0.078971\n",
            "13             Age_Tenure    0.074782\n",
            "10  AverageMonthlyCharges    0.074383\n",
            "3          MonthlyCharges    0.071069\n",
            "8           PaymentMethod    0.070000\n",
            "6         InternetService    0.063728\n",
            "7        PaperlessBilling    0.061173\n",
            "0                     Age    0.058524\n",
            "12  MonthlyCharges_Tenure    0.058041\n",
            "9            TotalCharges    0.057764\n",
            "5             TechSupport    0.057573\n"
          ]
        },
        {
          "output_type": "display_data",
          "data": {
            "text/plain": [
              "<Figure size 1200x600 with 1 Axes>"
            ],
            "image/png": "[encoded data removed]"
          },
          "metadata": {}
        }
      ]
    }
  ]
}